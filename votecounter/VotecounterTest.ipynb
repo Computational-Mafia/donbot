{
 "cells": [
  {
   "cell_type": "markdown",
   "metadata": {},
   "source": [
    "# VotecounterTest\n",
    "A script for setting up and executing performance tests on votecounters."
   ]
  },
  {
   "cell_type": "markdown",
   "metadata": {},
   "source": [
    "## Dependencies"
   ]
  },
  {
   "cell_type": "code",
   "execution_count": 18,
   "metadata": {},
   "outputs": [],
   "source": [
    "import json\n",
    "import time\n",
    "import numpy as np\n",
    "import VoteCount\n",
    "import VoteCounter"
   ]
  },
  {
   "cell_type": "code",
   "execution_count": 19,
   "metadata": {},
   "outputs": [],
   "source": [
    "archive = 'archive.txt'\n",
    "posts = 'posts.jl'\n",
    "votecounter = VoteCounter"
   ]
  },
  {
   "cell_type": "markdown",
   "metadata": {},
   "source": [
    "## Helper Function(s)"
   ]
  },
  {
   "cell_type": "code",
   "execution_count": 16,
   "metadata": {},
   "outputs": [],
   "source": [
    "def _relevantGameInfo(game):\n",
    "    link = game[:game.find('\\n')]\n",
    "    number = (link[link.find('&t=')+3:] if link.count('&')==1 \n",
    "                      else link[link.find('&t=')+3:link.rfind('&')])\n",
    "    slots, players, correct = [], [], None\n",
    "    for line in game[game.find('\\nPlayers\\n')+9:].split('\\n'):\n",
    "        line = line.split(', ')\n",
    "        players += line[0].split(' replaced ')\n",
    "        slots.append(line[0].split(' replaced ')) \n",
    "        if (line[2].lower().count('lynched') > 0 and\n",
    "            line[2].lower().count('day 1') > 0):\n",
    "            correct = slots[-1]\n",
    "    return slots, players, correct, number"
   ]
  },
  {
   "cell_type": "markdown",
   "metadata": {},
   "source": [
    "## The VotecounterTest Class"
   ]
  },
  {
   "cell_type": "code",
   "execution_count": 4,
   "metadata": {},
   "outputs": [],
   "source": [
    "class VotecounterTest:\n",
    "    \n",
    "    def __init__(self, archive='archive.txt', posts='posts.jl'):\n",
    "        # open game archive, separate by game\n",
    "        with open(archive) as f:\n",
    "            self.archive = f.read().split('\\n\\n\\n')\n",
    "        \n",
    "        # open thread archive, prepare selector\n",
    "        with open(posts) as f:\n",
    "            self.posts = []\n",
    "            for p in f:\n",
    "                self.posts.append(json.loads(p))\n",
    "            \n",
    "        ## do i need to sort all the posts here? Let's not.\n",
    "        self.posts = sorted(self.posts,\n",
    "            key = lambda x: (int(x['thread']), int(x['number'])))\n",
    "        self.threads = np.array([p['thread'] for p in self.posts]) \n",
    "        self.posts = np.array(self.posts)\n",
    "        \n",
    "    def test(self, votecounter):\n",
    "        # process votes in each game's posts until a lynch found\n",
    "        # then store information about votecounter's performance\n",
    "        results, success, t0 = {}, 0, time.time()\n",
    "        for game in self.archive[:1]:\n",
    "            slots, players, correct, number = _relevantGameInfo(game)\n",
    "            print(number)\n",
    "            votecount = VoteCount(slots, meta={'correct': correct})\n",
    "            votecounter = votecounter(players=players)\n",
    "            gameposts = sorted(self.posts[self.threads == number],\n",
    "                        key=lambda x: (int(x['thread']), int(x['number'])))\n",
    "            \n",
    "            for post in gameposts:\n",
    "                # done if voters have made a choice already\n",
    "                if votecount.choice:\n",
    "                    break\n",
    "                \n",
    "                # ignore posts not made by players\n",
    "                if players.count(post['user']) == 0:\n",
    "                    continue\n",
    "                \n",
    "                # update votecount for each vote found by votecounter\n",
    "                for voted in votecounter.votesFromPost(post):\n",
    "                    votecount.update(post['user'], voted)\n",
    "                    if votecount.choice:\n",
    "                        success += votecount.choice == correct\n",
    "                        break\n",
    "            results[number] = votecount\n",
    "        \n",
    "        return results, success/float(len(self.archive)), time.time()-t0"
   ]
  },
  {
   "cell_type": "markdown",
   "metadata": {},
   "source": [
    "## Test"
   ]
  },
  {
   "cell_type": "code",
   "execution_count": null,
   "metadata": {},
   "outputs": [],
   "source": [
    "results, successrate, time = VotecounterTest().test(VoteCounter)"
   ]
  }
 ],
 "metadata": {
  "kernelspec": {
   "display_name": "Python 3",
   "language": "python",
   "name": "python3"
  },
  "language_info": {
   "codemirror_mode": {
    "name": "ipython",
    "version": 3
   },
   "file_extension": ".py",
   "mimetype": "text/x-python",
   "name": "python",
   "nbconvert_exporter": "python",
   "pygments_lexer": "ipython3",
   "version": "3.6.4"
  }
 },
 "nbformat": 4,
 "nbformat_minor": 2
}
