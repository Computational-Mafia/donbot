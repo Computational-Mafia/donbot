{
 "cells": [
  {
   "cell_type": "markdown",
   "metadata": {},
   "source": [
    "# VoteCount\n",
    "A class for representing and manipulating votecounts."
   ]
  },
  {
   "cell_type": "code",
   "execution_count": 2,
   "metadata": {},
   "outputs": [],
   "source": [
    "class VoteCount:\n",
    "    \n",
    "    def __init__(self, slots, meta={}):\n",
    "        # each slot is assigned an index in range(len(slots)), \n",
    "        # with len(slots) equivalent to voting \"UNVOTE\", \n",
    "        # and len(slots)+1 equivalent to \"NO LYNCH\"\n",
    "        # start votecount with everyone voting no one\n",
    "        self.slots, self.votesByVoter, self.votesByVoted = slots, {}, {}\n",
    "        for i in range(len(slots)):\n",
    "            self.votesByVoter[i] = len(slots)\n",
    "            self.votesByVoted[i] = []\n",
    "        self.votesByVoted[len(slots)] = list(range(len(slots)))\n",
    "        self.choice, self.votelog, self.meta = None, [], meta\n",
    "        \n",
    "    def __str__(self):\n",
    "        string = ''\n",
    "        for i in self.votesByVoted.keys():\n",
    "            voters = [self.slots[voter] for voter in self.votesByVoted[i]]\n",
    "            voted = ('Not Voting' if i == len(self.slots) else\n",
    "                     ('No Lynch' if i > len(self.slots) else\n",
    "                      self.slots[i]))\n",
    "            string += voted + '-' + str(len(voters)) + 'votes:\\n'\n",
    "            for each in voters:\n",
    "                string += each + '\\n'\n",
    "            string += '\\n'\n",
    "        return string[:-1]\n",
    "    \n",
    "    def todict(self):\n",
    "        output = {}\n",
    "        for i in self.votesByVoted.keys():\n",
    "            voters = [self.slots[voter] for voter in self.votesByVoted[i]]\n",
    "            voted = ('Not Voting' if i == len(self.slots) else\n",
    "                     ('No Lynch' if i > len(self.slots) else\n",
    "                      self.slots[i]))\n",
    "            output[voted] = voters\n",
    "        return output\n",
    "        \n",
    "    def update(self, voter, voted, postnumber=None):\n",
    "        self.votelog.append(\n",
    "            '{} voted {} in post {}'.format(voter,voted,str(postnumber)))\n",
    "        \n",
    "        # get voterslot and votedslot\n",
    "        voterslot = next(self.slots.index(s) for s in self.slots\n",
    "                         if s.count(voter) > 0)\n",
    "        votedslot = (len(self.slots) if voted == 'UNVOTE' else\n",
    "                     (len(self.slots)+1 if voted == 'NO LYNCH' else\n",
    "                      next(self.slots.index(s) for s in self.slots\n",
    "                           if s.count(voted) > 0)))\n",
    "        \n",
    "         # update votesByVoter, temporarily track the old vote\n",
    "        oldvoted = self.votesByVoter[voterslot]\n",
    "        self.votesByVoter[voterslot] = votedslot\n",
    "\n",
    "        # update votesByVoted\n",
    "        oldvoteindex = self.votesByVoted[oldvoted].index(voterslot)\n",
    "        del self.votesByVoted[oldvoted][oldvoteindex]\n",
    "        self.votesByVoted[votedslot].append(voterslot)\n",
    "        \n",
    "        # if voted has a majority of votes, mark as voters' choice\n",
    "        if votedslot < len(self.slots) or votedslot == len(self.slots)+1:\n",
    "            if len(self.votesByVoted[votedslot]) > len(self.slots)/2.0:\n",
    "                self.choice = (self.slots[votedslot]\n",
    "                               if votedslot < len(self.slots)\n",
    "                               else 'NO LYNCH')"
   ]
  }
 ],
 "metadata": {
  "kernelspec": {
   "display_name": "Python 3",
   "language": "python",
   "name": "python3"
  },
  "language_info": {
   "codemirror_mode": {
    "name": "ipython",
    "version": 3
   },
   "file_extension": ".py",
   "mimetype": "text/x-python",
   "name": "python",
   "nbconvert_exporter": "python",
   "pygments_lexer": "ipython3",
   "version": "3.6.4"
  }
 },
 "nbformat": 4,
 "nbformat_minor": 2
}
