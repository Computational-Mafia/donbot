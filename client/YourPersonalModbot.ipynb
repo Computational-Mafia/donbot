{
 "cells": [
  {
   "cell_type": "markdown",
   "metadata": {},
   "source": [
    "# Your Personal Modbot\n",
    "Your Personal Modbot is a client-side implementation of tools automating actions related to moderating games on mafiascum.net. Start the app and input your user information, and you'll have a bot of your own to complete any of an eventually wide variety of tasks.\n",
    "\n",
    "A prototypical implementation of the client-side implementation of Modbot, this version starts a local server for the user where they can privately input their user info and initiate a pagetopping bot, a bot that automatically stalks a thread for opportunities to pagetop it using the user's account for as long as its associated browser window remains open and connected to the web.\n",
    "\n",
    "To grow Modbot without extending its simple interface, just add an additional page function under the Page Functions heading below and link to the function's associated page in the html associated with Modbot index (and recompile as a python script and then an executable). \n",
    "\n",
    "Future implementations of Your Personal Modbot are intended to involve adding further options beyond Pagetopper to the Modbot Index for carrying out other automated modding activities, such as generating votecounts or sending Role PMs.\n",
    "\n",
    "`personalmodbot.py` is produced by converting the front-facing notebook `personalmodbot.ipynb` using the jupyter command `jupyter nbconvert --to script personalmodbot.ipynb`. The executable file `personalmodbot.exe` is produced by calling `pyinstaller -F personalmodbot.py` within the appropriate OS environment.\n",
    "\n",
    "**Please** don't use these functions haphazardly, especially those that make posts or send pms, as misuse thereof can be against Site Rules, get you banned, and most importantly cause trouble for a lot of decent people."
   ]
  },
  {
   "cell_type": "markdown",
   "metadata": {},
   "source": [
    "## Setup"
   ]
  },
  {
   "cell_type": "markdown",
   "metadata": {},
   "source": [
    "### Dependencies"
   ]
  },
  {
   "cell_type": "code",
   "execution_count": 1,
   "metadata": {},
   "outputs": [],
   "source": [
    "from flask import Flask, session, redirect, url_for, escape, request\n",
    "from time import sleep\n",
    "from donbot import Donbot\n",
    "from math import ceil\n",
    "from  os import urandom"
   ]
  },
  {
   "cell_type": "markdown",
   "metadata": {},
   "source": [
    "### App HTML"
   ]
  },
  {
   "cell_type": "code",
   "execution_count": 2,
   "metadata": {},
   "outputs": [],
   "source": [
    "indexhtml = '''\n",
    "<title>Modbot: Index</title>\n",
    "<h1>Tool Index</h1>\n",
    "Here's an index of all the tools currently available. Select an option below:\n",
    "<br><br><a href={}>Pagetopper</a>\n",
    "<br><br><br><a href={}>Log Out</a>\n",
    "'''\n",
    "\n",
    "loginhtml = '''\n",
    "<title>Modbot: Login</title>\n",
    "<h1>Login</h1>\n",
    "Welcome to Modbot.\n",
    "You haven't provided a username and password yet.<br>\n",
    "Careful: if you input incorrect values, your tools probably won't work.\n",
    "<form method=\"post\">\n",
    "    <p>Username: <input type=text name=username>\n",
    "    <p>Password: <input type=text name=password>\n",
    "    <p><input type=submit value=Login>\n",
    "</form>\n",
    "'''\n",
    "\n",
    "pagetopperformhtml='''\n",
    "<title>Modbot: Pagetopper</title>\n",
    "<h1>Pagetopper</h1>\n",
    "An app that stalks the input thread for opportunities to pagetop. Useful for reserving thread real estate for votecounts or other announcements. Just input the post you want the bot to make, the thread you want it made in, and how regularly you want the bot to check the thread (respecting the potential burden on the site!).\n",
    "<form method=\"post\">\n",
    "    <p>Post Content: <textarea rows=\"7\" cols=\"80\" name=content>reserving this post with a pagetopping bot</textarea>\n",
    "    <p>Thread URL: <input type=text name=thread>\n",
    "    <p>Refresh Rate: <input type=text name=interval value='60'> seconds.\n",
    "    <p><input type=submit value=Submit>\n",
    "    <br><br><br><a href={}>Modbot Index</a>\n",
    "    <br><a href={}>Log Out</a>\n",
    "</form>\n",
    "'''\n",
    "\n",
    "pagetopperoperatinghtml = '''\n",
    "<title>Modbot: Pagetopper</title>\n",
    "<h1>Pagetopper</h1>\n",
    "Now operating using previously defined parameters. \n",
    "Thread will be checked again for an opportunity to pagetop every time the countdown drops to zero. \n",
    "Leave page or reset parameters to stop.\n",
    "<p><strong>Post Content:</strong><br>{}\n",
    "<p><strong>Thread URL:</strong><br>{}\n",
    "<p><strong>Countdown:</strong><br><span id=\"counter\">{}</span>\n",
    "<br><br><br><a href={}>Reset Parameters</a>\n",
    "<br><a href={} target=\"_blank\">Modbot Index</a>\n",
    "<br><a href={}>Log Out</a>\n",
    "<script>\n",
    "    setInterval(function() {{\n",
    "        var div = document.querySelector(\"#counter\");\n",
    "        var count = div.textContent * 1 - 1;\n",
    "        div.textContent = count;\n",
    "        if (count <= 0) {{\n",
    "            window.location.replace(\"{}\");\n",
    "        }}\n",
    "    }}, 1000);\n",
    "</script>\n",
    "'''"
   ]
  },
  {
   "cell_type": "markdown",
   "metadata": {},
   "source": [
    "### Starter Variables"
   ]
  },
  {
   "cell_type": "code",
   "execution_count": 3,
   "metadata": {},
   "outputs": [],
   "source": [
    "postsPerPage = 25.0\n",
    "\n",
    "app = Flask(__name__)\n",
    "app.secret_key = urandom(16)"
   ]
  },
  {
   "cell_type": "markdown",
   "metadata": {},
   "source": [
    "## Page Functions"
   ]
  },
  {
   "cell_type": "markdown",
   "metadata": {},
   "source": [
    "### Modbot Index\n",
    "An index of all available Modbot functionality that can be selected from."
   ]
  },
  {
   "cell_type": "code",
   "execution_count": 4,
   "metadata": {},
   "outputs": [],
   "source": [
    "@app.route('/')\n",
    "def index():\n",
    "    if not authenticated():\n",
    "        return redirect(url_for('login'))\n",
    "    return indexhtml.format(url_for('pagetopper'), url_for('logout'))"
   ]
  },
  {
   "cell_type": "markdown",
   "metadata": {},
   "source": [
    "### Modbot Login and Logout\n",
    "Collect or discard user information related to Modbot."
   ]
  },
  {
   "cell_type": "code",
   "execution_count": 5,
   "metadata": {},
   "outputs": [],
   "source": [
    "@app.route('/login', methods=['GET', 'POST'])\n",
    "def login():\n",
    "    if request.method == 'POST':\n",
    "        for each in ['username', 'password']:\n",
    "            session[each] = request.form[each]\n",
    "        return redirect(url_for('index'))\n",
    "    return loginhtml\n",
    "\n",
    "@app.route('/logout')\n",
    "def logout():\n",
    "    session = {}\n",
    "    return redirect(url_for('login'))\n",
    "\n",
    "def authenticated():\n",
    "    return ('username' in session and 'password' in session)"
   ]
  },
  {
   "cell_type": "markdown",
   "metadata": {},
   "source": [
    "### Pagetopper\n",
    "a bot that automatically stalks a thread for opportunities to pagetop it using the user's account for as long as its associated browser window remains open and connected to the web"
   ]
  },
  {
   "cell_type": "code",
   "execution_count": 6,
   "metadata": {},
   "outputs": [],
   "source": [
    "@app.route('/pagetopper', methods=['GET', 'POST'])\n",
    "def pagetopper():\n",
    "    if not authenticated():\n",
    "        return redirect(url_for('login'))\n",
    "    if request.method == 'POST':\n",
    "        for each in ['thread', 'content', 'interval']:\n",
    "            session['pagetopper-{}'.format(each)] = request.form[each]\n",
    "    if not ('pagetopper-thread' in session\n",
    "            and 'pagetopper-content' in session\n",
    "            and 'pagetopper-interval' in session):\n",
    "        return pagetopperformhtml.format(\n",
    "            url_for('index'), url_for('logout'))\n",
    "    thread = session['pagetopper-thread']\n",
    "    interval = session['pagetopper-interval']\n",
    "    content = session['pagetopper-content']\n",
    "    bot = Donbot(username=session['username'],\n",
    "                 password=session['password'], \n",
    "                 thread=thread)\n",
    "    current = (session['pagetopper-current']\n",
    "               if 'pagetopper-current' in session\n",
    "               else ceil(bot.getNumberOfPosts()/postsPerPage))\n",
    "    update = bot.getNumberOfPosts()\n",
    "    if (current != ceil(update/postsPerPage) or update % 25 == 0):\n",
    "        bot.makePost(content)\n",
    "        current = ceil(bot.getNumberOfPosts()/postsPerPage)\n",
    "    return pagetopperoperatinghtml.format(\n",
    "        content, thread, interval, url_for('pagetopper_reset'),\n",
    "        url_for('index'), url_for('logout'), url_for('pagetopper'))\n",
    "\n",
    "@app.route('/pagetopper_reset') # for resetting pagetopper parameters\n",
    "def pagetopper_reset():\n",
    "    for each in ['thread', 'content', 'interval']:\n",
    "        session.pop('pagetopper-{}'.format(each))\n",
    "    return redirect(url_for('pagetopper'))"
   ]
  },
  {
   "cell_type": "markdown",
   "metadata": {},
   "source": [
    "## Start the Flask App"
   ]
  },
  {
   "cell_type": "code",
   "execution_count": 7,
   "metadata": {},
   "outputs": [
    {
     "name": "stderr",
     "output_type": "stream",
     "text": [
      " * Running on http://127.0.0.1:5000/ (Press CTRL+C to quit)\n",
      "127.0.0.1 - - [11/May/2018 05:05:39] \"POST /pagetopper HTTP/1.1\" 302 -\n",
      "127.0.0.1 - - [11/May/2018 05:05:39] \"GET /login HTTP/1.1\" 200 -\n",
      "127.0.0.1 - - [11/May/2018 05:05:44] \"POST /login HTTP/1.1\" 302 -\n",
      "127.0.0.1 - - [11/May/2018 05:05:44] \"GET / HTTP/1.1\" 200 -\n",
      "127.0.0.1 - - [11/May/2018 05:05:45] \"GET /pagetopper HTTP/1.1\" 200 -\n",
      "127.0.0.1 - - [11/May/2018 05:05:49] \"POST /pagetopper HTTP/1.1\" 200 -\n",
      "127.0.0.1 - - [11/May/2018 05:06:33] \"GET /pagetopper_reset HTTP/1.1\" 302 -\n",
      "127.0.0.1 - - [11/May/2018 05:06:33] \"GET /pagetopper HTTP/1.1\" 200 -\n",
      "127.0.0.1 - - [11/May/2018 05:06:35] \"GET / HTTP/1.1\" 200 -\n"
     ]
    }
   ],
   "source": [
    "if __name__ == \"__main__\":\n",
    "    app.run()"
   ]
  }
 ],
 "metadata": {
  "kernelspec": {
   "display_name": "Python 3",
   "language": "python",
   "name": "python3"
  },
  "language_info": {
   "codemirror_mode": {
    "name": "ipython",
    "version": 3
   },
   "file_extension": ".py",
   "mimetype": "text/x-python",
   "name": "python",
   "nbconvert_exporter": "python",
   "pygments_lexer": "ipython3",
   "version": "3.6.4"
  }
 },
 "nbformat": 4,
 "nbformat_minor": 2
}
