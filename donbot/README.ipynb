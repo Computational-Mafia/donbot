{
 "cells": [
  {
   "cell_type": "markdown",
   "metadata": {},
   "source": [
    "# Donbot Readme / Tutorial / Demo / Documentation\n",
    "The donbot module is a simple module w/ a class that makes it super easy to automate interactions with mafiascum.net.\n",
    "Create an instance of the Donbot class with your username and password \n",
    "(and potentially other parameters), and you'll be able to:\n",
    "- Collect a range of posts from a thread\n",
    "- Make posts in a specified thread with specified content\n",
    "- Send pms to a user with a specified subject and body\n",
    "- Collect the number of posts in a specified thread\n",
    "- Collect id matching a specified scummer's username\n",
    "- And, eventually, more!\n",
    "\n",
    "**Please** don't use these functions haphazardly, especially those that make posts or send PMs, as misuse thereof can be against Site Rules, get you banned, and most importantly cause trouble for a lot of decent people.\n",
    "\n",
    "Module Details: `donbot/donbot.ipynb`  \n",
    "Module: `donbot/donbot.py`\n",
    "\n",
    "This is a quick tutorial on how to use Donbot so that even Python beginners can quickly begin using it. Please let someone know if it's wrong or unclear, because it'll always be a work in progress."
   ]
  },
  {
   "cell_type": "markdown",
   "metadata": {},
   "source": [
    "# Tutorial / Demo / Documentation\n",
    "This is a quick tutorial on how to use Donbot so that even Python beginners can quickly begin using it. Please let someone know if it's wrong or unclear, because it'll always be a work in progress."
   ]
  },
  {
   "cell_type": "markdown",
   "metadata": {},
   "source": [
    "The donbot module is a simple module w/ a class that makes it super easy to automate interactions with mafiascum.net.\n",
    "Create an instance of the Donbot class with your username and password \n",
    "(and potentially other parameters), and you'll be able to:\n",
    "- Collect a range of posts from a thread\n",
    "- Make posts in a specified thread with specified content\n",
    "- Send pms to a user with a specified subject and body\n",
    "- Collect the number of posts in a specified thread\n",
    "- Collect id matching a specified scummer's username\n",
    "- And, eventually, more!\n",
    "\n",
    "This is a quick tutorial on how to use Donbot so that even Python beginners can quickly begin using it. Please let someone know if it's wrong or unclear, because it'll always be a work in progress.\n",
    "\n",
    "**Please** don't use these functions haphazardly, especially those that make posts or send pms, as misuse thereof can be against Site Rules, get you banned, and most importantly cause trouble for a lot of decent people."
   ]
  },
  {
   "cell_type": "markdown",
   "metadata": {},
   "source": [
    "## Starting a Donbot Instance\n",
    "Before we start, make sure you have the Python packages `lxml` and `requests`. They're pretty easy to get, I think; you probably only need to type \"`pip install lxml`\" and \"`pip install requests`\" into your command prompt. Check the websites for these packages for more details. I believe other dependencies of the donbot module come with Python.\n",
    "\n",
    "Making donbot accessible to your script or notebook is as simple as placing `donbot.py` in your working directory and including the following before you start using it:"
   ]
  },
  {
   "cell_type": "code",
   "execution_count": 1,
   "metadata": {},
   "outputs": [],
   "source": [
    "from donbot import Donbot"
   ]
  },
  {
   "cell_type": "markdown",
   "metadata": {},
   "source": [
    "Once you import the module, to use it you have to first initialize a Donbot instance. What you have to include in this first initialization depends on what you intend to do with the bot. There are 2 required and 2 optional parameters:\n",
    "- `username` (required): the username your bot will use to log in\n",
    "\n",
    "- `password` (required): the password your bot will use to log in\n",
    "\n",
    "- `thread` (defaults to `None`): the url of the thread this instance of Donbot will assume you're talking about when you call a function like getPosts(); unnecessary if you aren't using Donbot to do anything in a particular thread or prefer to specify the thread url when you call a thread-processing function\n",
    "\n",
    "- `postdelay` (defaults to `1.5`): the number of seconds you want Donbot to pause before it submits information to mafiascum.net; I've found that if successive POST requests are sent too quickly to site, errors can occur. Leave this alone if you don't know what I'm talking about.\n",
    "\n",
    "Here are some examples of ways you might start a Donbot instance:"
   ]
  },
  {
   "cell_type": "code",
   "execution_count": null,
   "metadata": {},
   "outputs": [],
   "source": [
    "# im going to do stuff across some threads\n",
    "bot = Donbot(username='myusername', password='mypassword')\n",
    "\n",
    "# im going to do stuff mainly in one thread, need to be logged in,\n",
    "# and want 0 seconds of delay imposed between my POST requests\n",
    "bot = Donbot(username='myusername', password='mypassword',\n",
    "            thread='https://forum.mafiascum.net/viewtopic.php?f=5&t=76109',\n",
    "            postdelay=0.0)"
   ]
  },
  {
   "cell_type": "markdown",
   "metadata": {},
   "source": [
    "## Using a Donbot Instance\n",
    "So you've started your Donbot instance and assigned it to the variable \"bot\". How do you use it to do stuff? Thanks to this module, it's pretty easy."
   ]
  },
  {
   "cell_type": "markdown",
   "metadata": {},
   "source": [
    "#### To get the userID associated with a username"
   ]
  },
  {
   "cell_type": "code",
   "execution_count": 3,
   "metadata": {},
   "outputs": [
    {
     "data": {
      "text/plain": [
       "'15830'"
      ]
     },
     "execution_count": 3,
     "metadata": {},
     "output_type": "execute_result"
    }
   ],
   "source": [
    "bot.getUserID('Psyche')"
   ]
  },
  {
   "cell_type": "markdown",
   "metadata": {},
   "source": [
    "#### To count the number of posts in a thread"
   ]
  },
  {
   "cell_type": "code",
   "execution_count": 4,
   "metadata": {},
   "outputs": [
    {
     "data": {
      "text/plain": [
       "22"
      ]
     },
     "execution_count": 4,
     "metadata": {},
     "output_type": "execute_result"
    }
   ],
   "source": [
    "# If you included the target thread as a parameter \n",
    "# when you started your Donbot instance:\n",
    "bot.getNumberOfPosts()\n",
    "\n",
    "# otherwise\n",
    "targetthread = 'https://forum.mafiascum.net/viewtopic.php?f=5&t=76109'\n",
    "bot.getNumberOfPosts(targetthread)"
   ]
  },
  {
   "cell_type": "markdown",
   "metadata": {},
   "source": [
    "#### To collect the activity overview of a thread."
   ]
  },
  {
   "cell_type": "code",
   "execution_count": 4,
   "metadata": {},
   "outputs": [
    {
     "data": {
      "text/plain": [
       "[{'firstpost': 'Apr 30, 06:32pm',\n",
       "  'lastpost': 'May 04, 08:56am',\n",
       "  'sincelast': '0 days 0 hours',\n",
       "  'totalposts': '16',\n",
       "  'user': 'Psyche'},\n",
       " {'firstpost': 'May 01, 09:27am',\n",
       "  'lastpost': 'May 04, 12:47am',\n",
       "  'sincelast': '0 days 8 hours',\n",
       "  'totalposts': '9',\n",
       "  'user': 'Flubbernugget'},\n",
       " {'firstpost': 'May 03, 11:54am',\n",
       "  'lastpost': 'May 03, 04:03pm',\n",
       "  'sincelast': '0 days 17 hours',\n",
       "  'totalposts': '2',\n",
       "  'user': 'yessiree'}]"
      ]
     },
     "execution_count": 4,
     "metadata": {},
     "output_type": "execute_result"
    }
   ],
   "source": [
    "# If you included the target thread as a parameter \n",
    "# when you started your Donbot instance:\n",
    "bot.getActivityOverview()\n",
    "\n",
    "# otherwise\n",
    "targetthread = 'https://forum.mafiascum.net/viewtopic.php?f=5&t=76109'\n",
    "rows = bot.getActivityOverview(targetthread)\n",
    "\n",
    "# let's see an element the output as an example:\n",
    "rows[:3]"
   ]
  },
  {
   "cell_type": "markdown",
   "metadata": {},
   "source": [
    "As you can see, getActivityOverview() returns a list of Python dictionaries, which each summarize the key information about a user's present on the thread's activity overview page, including info about when they made their first and latest post to the thread, their total number of posts in the thread, and the number of days and hours since their last post."
   ]
  },
  {
   "cell_type": "markdown",
   "metadata": {},
   "source": [
    "#### To collect a range of posts from a thread"
   ]
  },
  {
   "cell_type": "code",
   "execution_count": 3,
   "metadata": {},
   "outputs": [
    {
     "name": "stdout",
     "output_type": "stream",
     "text": [
      "{'number': 3, 'user': 'Psyche', 'content': '<div class=\"content\">The main thing I want to talk about *right now* is the part where the data structure of voting data my votecounter makes is converted into a formatted votecount post for game mods to post. It doesn\\'t seem very straightforward given the variety of ways mods like to format their votecounts.</div>\\n\\n\\t\\t\\t', 'datetime': datetime.datetime(2018, 4, 30, 18, 44)}\n"
     ]
    }
   ],
   "source": [
    "# you included the target thread as a parameter when you started bot \n",
    "# and want every post in that thread:\n",
    "posts = bot.getPosts()\n",
    "\n",
    "# you didnt include the target thread as an instantiation parameter\n",
    "# and you want just posts 2 through 5, inclusive\n",
    "targetthread = 'https://forum.mafiascum.net/viewtopic.php?f=5&t=76109'\n",
    "posts = bot.getPosts(targetthread, start=2, end=5)\n",
    "\n",
    "# you did include the target thread as an instantiation parameter\n",
    "# and you want all the posts up through post #3 (that's 4 posts total!)\n",
    "posts = bot.getPosts(end=3)\n",
    "\n",
    "# example output\n",
    "print(posts[-2:])"
   ]
  },
  {
   "cell_type": "markdown",
   "metadata": {},
   "source": [
    "As you can see, getPosts() returns a list of posts, which are each Python dictionaries with all the key information about the post, including its number, its timestamp, who posted it, and its content."
   ]
  },
  {
   "cell_type": "markdown",
   "metadata": {},
   "source": [
    "#### To make a post"
   ]
  },
  {
   "cell_type": "code",
   "execution_count": 10,
   "metadata": {},
   "outputs": [],
   "source": [
    "content = 'This is a test post. I made it with a bot.'\n",
    "\n",
    "# if you included the target thread as a parameter when you started bot\n",
    "bot.makePost(content)\n",
    "\n",
    "# if you didnt\n",
    "targetthread = 'https://forum.mafiascum.net/viewtopic.php?f=5&t=76109'\n",
    "bot.makePost(content, thread=targetthread)"
   ]
  },
  {
   "cell_type": "markdown",
   "metadata": {},
   "source": [
    "#### To send a pm"
   ]
  },
  {
   "cell_type": "code",
   "execution_count": 9,
   "metadata": {},
   "outputs": [],
   "source": [
    "subject = 'Re: Artfully Selected Movement Sequences of the Title Fairy'\n",
    "body = 'you are the worst title fairy ever'\n",
    "sendto = 'Psyche'\n",
    "\n",
    "bot.sendPM(subject, body, sendto)"
   ]
  },
  {
   "cell_type": "markdown",
   "metadata": {},
   "source": [
    "# Conclusion\n",
    "To really get into the details about how Donbot works, check out its associated iPython Notebook, `donbot.ipynb`. It has the exact same content as `donbot.py`, but with formatting to make it easier to read. "
   ]
  }
 ],
 "metadata": {
  "kernelspec": {
   "display_name": "Python 3",
   "language": "python",
   "name": "python3"
  },
  "language_info": {
   "codemirror_mode": {
    "name": "ipython",
    "version": 3
   },
   "file_extension": ".py",
   "mimetype": "text/x-python",
   "name": "python",
   "nbconvert_exporter": "python",
   "pygments_lexer": "ipython3",
   "version": "3.6.4"
  }
 },
 "nbformat": 4,
 "nbformat_minor": 2
}
