{
  "nbformat": 4,
  "nbformat_minor": 0,
  "metadata": {
    "colab": {
      "name": "donbot.ipynb",
      "version": "0.3.2",
      "views": {},
      "default_view": {},
      "provenance": []
    },
    "kernelspec": {
      "display_name": "Python 3",
      "language": "python",
      "name": "python3"
    }
  },
  "cells": [
    {
      "metadata": {
        "id": "RdmWvUXx2m9R",
        "colab_type": "text"
      },
      "cell_type": "markdown",
      "source": [
        "# Donbot\n",
        "The donbot module is a simple module w/ a class that makes it super easy to automate interactions with mafiascum.net.\n",
        "Create an instance of the Donbot class with your username and password \n",
        "(and potentially other parameters), and you'll be able to:\n",
        "- Collect a range of posts from a thread\n",
        "- Make posts in a specified thread with specified content\n",
        "- Send pms to a user with a specified subject and body\n",
        "- Collect the number of posts in a specified thread\n",
        "- Collect id matching a specified scummer's username\n",
        "- And, eventually, more!\n",
        "\n",
        "`donbot.py` is produced by converting the front-facing notebook `donbot.ipynb` using the jupyter command `jupyter nbconvert --to script donbot.ipynb`. Consult `donbotdemo.ipynb` for a tutorial on how to use the module.\n",
        "\n",
        "**Please** don't use these functions haphazardly, especially those that make posts or send pms, as misuse thereof can be against Site Rules, get you banned, and most importantly cause trouble for a lot of decent people."
      ]
    },
    {
      "metadata": {
        "id": "oK-L8mlD2m9S",
        "colab_type": "text"
      },
      "cell_type": "markdown",
      "source": [
        "## Setup"
      ]
    },
    {
      "metadata": {
        "id": "XAQ34b_u2m9T",
        "colab_type": "text"
      },
      "cell_type": "markdown",
      "source": [
        "### Dependencies"
      ]
    },
    {
      "metadata": {
        "id": "jwvLBGP42m9U",
        "colab_type": "code",
        "colab": {
          "autoexec": {
            "startup": false,
            "wait_interval": 0
          }
        }
      },
      "cell_type": "code",
      "source": [
        "from datetime import datetime as dt # to parse timestamps\n",
        "from datetime import timedelta      # parsing hours/minutes\n",
        "from math import floor              # to get page# from post\n",
        "import requests                     # for interacting with website\n",
        "import time                         # need delays before post requests\n",
        "\n",
        "try:\n",
        "    from lxml import html           # to help parse website content\n",
        "except ModuleNotFoundError:\n",
        "    import os\n",
        "    os.system('pip install lxml')\n",
        "    from lxml import html"
      ],
      "execution_count": 0,
      "outputs": []
    },
    {
      "metadata": {
        "id": "D5zLl8rV2m9b",
        "colab_type": "text"
      },
      "cell_type": "markdown",
      "source": [
        "### Urls donbot will construct requests with"
      ]
    },
    {
      "metadata": {
        "id": "HkCrUk-Q2m9c",
        "colab_type": "code",
        "colab": {
          "autoexec": {
            "startup": false,
            "wait_interval": 0
          }
        }
      },
      "cell_type": "code",
      "source": [
        "# generic site url; will start other urls\n",
        "siteurl = 'https://forum.mafiascum.net/'\n",
        "\n",
        "# where bot logs into mafiascum.net\n",
        "loginurl = siteurl + 'ucp.php?mode=login'\n",
        "\n",
        "# format w/ username and get to obtain page w/ their userid on it\n",
        "userurl = siteurl + 'search.php?keywords=&terms=all&author={}'\n",
        "\n",
        "# make post request here w/ right format to make a post to thread\n",
        "posturl = siteurl + 'posting.php?mode=reply&{}'\n",
        "\n",
        "# post request here w/ form to send a pm\n",
        "pmurl = siteurl + 'ucp.php?i=pm&mode=compose'"
      ],
      "execution_count": 0,
      "outputs": []
    },
    {
      "metadata": {
        "id": "35GlKx3V2m9h",
        "colab_type": "text"
      },
      "cell_type": "markdown",
      "source": [
        "### Paths to elements donbot will grab info from"
      ]
    },
    {
      "metadata": {
        "id": "sDxyCxF72m9i",
        "colab_type": "code",
        "colab": {
          "autoexec": {
            "startup": false,
            "wait_interval": 0
          }
        }
      },
      "cell_type": "code",
      "source": [
        "# number of posts in thread assoc'd w/ page\n",
        "postcountpath = \"//div[@class='pagination']/text()\"\n",
        "postcountpath = \"(//div[@class='pagination'])[2]/text()\"\n",
        "\n",
        "# every post on current page\n",
        "postspath = '//div[@class=\"post bg2\" or @class=\"post bg1\"]'\n",
        "\n",
        "# post# of a post\n",
        "numberpath = \".//p[@class='author']/a/strong/text()\"\n",
        "\n",
        "# username assoc'd w/ a post\n",
        "userpath = \".//dl[@class='postprofile']/dt/a/text()\"\n",
        "\n",
        "# content of a post\n",
        "contentpath = \".//div[@class='content']\"\n",
        "\n",
        "# timestamp of a post\n",
        "datetimepath = \".//p[@class='author']/text()\"\n",
        "\n",
        "# path to value of all input elements on page with specified name\n",
        "postformpath = \"//input[@name='{}']/@value\"\n",
        "\n",
        "# at userurl, path to link that has their userid\n",
        "userlinkpath = \"//dt[@class='author']/a/@href\"\n",
        "\n",
        "# at activityoverview page, path to cells of page's main table\n",
        "activitypath = \"//table//table//div\""
      ],
      "execution_count": 0,
      "outputs": []
    },
    {
      "metadata": {
        "id": "mA2kuG9r2m9k",
        "colab_type": "text"
      },
      "cell_type": "markdown",
      "source": [
        "### Other static variables used across instances"
      ]
    },
    {
      "metadata": {
        "id": "KcrraQ8I2m9l",
        "colab_type": "code",
        "colab": {
          "autoexec": {
            "startup": false,
            "wait_interval": 0
          }
        }
      },
      "cell_type": "code",
      "source": [
        "postsperpage = 25 # number of posts per thread page\n",
        "poststamp = '%a %b %d, %Y %I:%M %p' # post timestamp structure"
      ],
      "execution_count": 0,
      "outputs": []
    },
    {
      "metadata": {
        "id": "LVl1JVvN2m9o",
        "colab_type": "text"
      },
      "cell_type": "markdown",
      "source": [
        "## The Donbot Class"
      ]
    },
    {
      "metadata": {
        "id": "uQ3hVHjs2m9o",
        "colab_type": "code",
        "colab": {
          "autoexec": {
            "startup": false,
            "wait_interval": 0
          }
        }
      },
      "cell_type": "code",
      "source": [
        "class Donbot(object):\n",
        "    \n",
        "    def __init__(self, username, password, thread=None, postdelay=3.0):\n",
        "        self.postdelay = postdelay # seconds to wait before post requests\n",
        "        self.thread = thread\n",
        "        self.username = username\n",
        "        self.session = requests.Session()\n",
        "        loginresult = self.session.post(loginurl,\n",
        "            {'username': username, 'password': password,\n",
        "             'redirect': 'index.php', 'login': 'Login'})\n",
        "        \n",
        "        # raise error if username or password is invalid\n",
        "        if 'You have specified an incorrect password.' in loginresult.text:\n",
        "            raise ValueError('You have specified an incorrect password.')\n",
        "        elif 'You have specified an incorrect username.' in loginresult.text:\n",
        "            raise ValueError('You have specified an incorrect username.')\n",
        "        \n",
        "    def getUserID(self, username=None):\n",
        "        # Search for posts by user; userID is in link in first result.\n",
        "        username = username if username else self.username\n",
        "        username = username.replace(' ', '+')\n",
        "        page = self.session.get(userurl.format(username)).content\n",
        "        userposts = html.fromstring(page)\n",
        "        userlink = userposts.xpath(userlinkpath)[0]\n",
        "        return userlink[userlink.rfind('=')+1:]\n",
        "    \n",
        "    def getNumberOfPosts(self, thread=None):\n",
        "        thread = thread if thread else self.thread\n",
        "        if len(thread) == 0:\n",
        "            raise ValueError('No thread specified!')\n",
        "        page = self.session.get(thread).content\n",
        "        numberOfPosts = html.fromstring(page).xpath(postcountpath)[0]\n",
        "        return int(numberOfPosts[:numberOfPosts.find(' ')].strip())\n",
        "    \n",
        "    def getActivityOverview(self, thread=None):\n",
        "        thread = thread if thread else self.thread\n",
        "        if len(thread) == 0:\n",
        "            raise ValueError('No thread specified!')\n",
        "        page = self.session.get(thread+'&activity_overview=1').content\n",
        "        userinfo = []\n",
        "        for row in html.fromstring(page).xpath(activitypath)[1:]:\n",
        "            rowtext = row.xpath(\".//text()\")\n",
        "            userinfo.append({'user': rowtext[5],\n",
        "                             'firstpost': rowtext[8].strip(),\n",
        "                             'lastpost': rowtext[10].strip(),\n",
        "                             'sincelast': rowtext[12].strip(),\n",
        "                             'totalposts': rowtext[15]})\n",
        "        return userinfo\n",
        "        \n",
        "    def getPosts(self, thread=None, start=0, end=float('infinity'), loggedin=True):\n",
        "        thread = self.thread if not thread else thread\n",
        "        if len(thread) == 0:\n",
        "            raise ValueError('No thread specified!')\n",
        "            \n",
        "        # check end or # of posts in thread to find pages we need to examine\n",
        "        startpage = floor(start/postsperpage)\n",
        "        endpage = (floor(end/postsperpage) if end != float('infinity')\n",
        "                   else floor(self.getNumberOfPosts(thread)/postsperpage))\n",
        "        \n",
        "        # collect on each page key content from posts after currentpost\n",
        "        newposts = []\n",
        "        for i in range(startpage*25, (endpage+1)*25, 25):\n",
        "            if loggedin:\n",
        "                page = self.session.get(thread+'&start='+str(i)).content\n",
        "            else:\n",
        "                page = requests.get(thread+'&start='+str(i)).content\n",
        "            for post in html.fromstring(page).xpath(postspath):\n",
        "                p = {}\n",
        "                p['number'] = int(post.xpath(numberpath)[0][1:])\n",
        "                if p['number'] >= start and p['number'] <= end:\n",
        "                    p['user'] = post.xpath(userpath)[0]\n",
        "                    p['content'] = html.tostring(post.xpath(contentpath)[0])\n",
        "                    p['content'] = p['content'].decode('UTF-8').strip()[21:-6]\n",
        "\n",
        "                    # requires some postprocessing to turn into a datetime\n",
        "                    stamp = post.xpath(datetimepath)[-1]\n",
        "                    p['datetime'] = stamp[stamp.find('» ')+2:].strip()\n",
        "                    p['datetime'] = dt.strptime(p['datetime'], poststamp)\n",
        "                    newposts.append(p)\n",
        "        return newposts\n",
        "        \n",
        "    def makePost(self, content, thread=None, postdelay=None):\n",
        "        postdelay = postdelay if postdelay else self.postdelay\n",
        "        thread = thread if thread else self.thread\n",
        "        if len(thread) == 0:\n",
        "            raise ValueError('No thread specified!')\n",
        "        \n",
        "        # one request to get form info for post, \n",
        "        threadid = thread[thread.find('?')+1:]\n",
        "        page = html.fromstring(self.session.get(\n",
        "            posturl.format(thread[thread.find('?')+1:])).content)\n",
        "        \n",
        "        # and another to make it\n",
        "        form = {'message': content, \n",
        "                'addbbcode20': 100,\n",
        "                'post': 'Submit', \n",
        "                'disable_smilies': 'on',\n",
        "                'attach_sig': 'on', \n",
        "                'icon': 0}\n",
        "        for name in ['topic_cur_post_id', 'lastclick', 'creation_time','form_token']:\n",
        "            form[name] = page.xpath(postformpath.format(name))[0]\n",
        "\n",
        "        time.sleep(postdelay)\n",
        "        self.session.post(posturl.format(thread[thread.find('?')+1:]), form)\n",
        "        \n",
        "    def sendPM(self, sendto=None, subject='Donbot-Generated Filler', body='Donbot-Generated Filler', postdelay=None):\n",
        "        # one request to get form info for pm, and another to send it\n",
        "        # a third request gets userid matching user\n",
        "        sendto = sendto if sendto else self.username\n",
        "        sendto = [sendto] if isinstance(sendto, str) else sendto\n",
        "        uids = [self.getUserID(user) for user in sendto]\n",
        "        postdelay = postdelay if postdelay else self.postdelay\n",
        "        compose = html.fromstring(self.session.get(pmurl).content)\n",
        "\n",
        "        form = {'username_list':'', 'subject':subject, 'message':body,\n",
        "                'addbbcode20':100, 'message':body, 'status_switch':0, \n",
        "                'post':'Submit', 'attach_sig':'on',\n",
        "                'disable_smilies':'on'}\n",
        "        for user in uids:\n",
        "            form['address_list[u][{}]'.format(user)] = 'to'\n",
        "            \n",
        "        for name in ['lastclick', 'creation_time', 'form_token']:\n",
        "            form[name] = compose.xpath(postformpath.format(name))[0]\n",
        "\n",
        "        time.sleep(postdelay)\n",
        "        self.session.post(pmurl, form)"
      ],
      "execution_count": 0,
      "outputs": []
    }
  ]
}